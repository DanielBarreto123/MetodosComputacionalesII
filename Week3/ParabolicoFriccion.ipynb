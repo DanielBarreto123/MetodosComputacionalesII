{
 "cells": [
  {
   "cell_type": "code",
   "execution_count": 3,
   "id": "307e73d3",
   "metadata": {},
   "outputs": [],
   "source": [
    "import numpy as np\n",
    "import matplotlib.pyplot as plt\n",
    "from scipy import integrate"
   ]
  },
  {
   "cell_type": "code",
   "execution_count": 4,
   "id": "4d918389",
   "metadata": {},
   "outputs": [],
   "source": [
    "#Physics parameters\n",
    "g = 9.81\n",
    "b = 0.1    # Gamma/m  Gamma is the viscosity and m the mass "
   ]
  },
  {
   "cell_type": "code",
   "execution_count": null,
   "id": "03337016",
   "metadata": {},
   "outputs": [],
   "source": []
  }
 ],
 "metadata": {
  "kernelspec": {
   "display_name": "Python 3 (ipykernel)",
   "language": "python",
   "name": "python3"
  },
  "language_info": {
   "codemirror_mode": {
    "name": "ipython",
    "version": 3
   },
   "file_extension": ".py",
   "mimetype": "text/x-python",
   "name": "python",
   "nbconvert_exporter": "python",
   "pygments_lexer": "ipython3",
   "version": "3.11.5"
  }
 },
 "nbformat": 4,
 "nbformat_minor": 5
}
