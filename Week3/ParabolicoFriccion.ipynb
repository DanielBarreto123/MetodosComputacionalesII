{
 "cells": [
  {
   "cell_type": "code",
   "execution_count": 1,
   "id": "307e73d3",
   "metadata": {},
   "outputs": [],
   "source": [
    "import numpy as np\n",
    "import matplotlib.pyplot as plt\n",
    "from scipy import integrate"
   ]
  },
  {
   "cell_type": "code",
   "execution_count": 2,
   "id": "4d918389",
   "metadata": {},
   "outputs": [],
   "source": [
    "#Physics parameters\n",
    "g = 9.81\n",
    "b = 0.1    # Gamma/m  Gamma is the viscosity and m the mass "
   ]
  },
  {
   "cell_type": "code",
   "execution_count": 4,
   "id": "03337016",
   "metadata": {},
   "outputs": [],
   "source": [
    "h = 0.01\n",
    "t = np.arange(0,6+h,h)\n",
    "#t"
   ]
  },
  {
   "cell_type": "code",
   "execution_count": 5,
   "id": "95902a02",
   "metadata": {},
   "outputs": [],
   "source": [
    "def System(r,t,b):\n",
    "    \n",
    "    x,y,vx,vy = r\n",
    "    \n",
    "    dxdt = vx\n",
    "    dydt = vy\n",
    "    dvxdt = 0. - b*vx\n",
    "    dvydt = - g - b*vy\n",
    "    \n",
    "    return [dxdt,dydt,dvxdt,dvydt]"
   ]
  },
  {
   "cell_type": "code",
   "execution_count": 6,
   "id": "0ba33edf",
   "metadata": {},
   "outputs": [],
   "source": [
    "def Integrator2(f,r0,t,b):\n",
    "    \n",
    "    h = t[1] - t[0]\n",
    "    print(h)\n",
    "    \n",
    "    x = np.zeros_like(t)\n",
    "    y = np.zeros_like(t)\n",
    "    vx = np.zeros_like(t)\n",
    "    vy = np.zeros_like(t)\n",
    "    \n",
    "    x[0] = r0[0]\n",
    "    y[0] = r0[1]\n",
    "    vx[0] = r0[2]\n",
    "    vy[0] = r0[3]\n",
    "    \n",
    "    "
   ]
  },
  {
   "cell_type": "code",
   "execution_count": null,
   "id": "6a771e8a",
   "metadata": {},
   "outputs": [],
   "source": []
  }
 ],
 "metadata": {
  "kernelspec": {
   "display_name": "Python 3 (ipykernel)",
   "language": "python",
   "name": "python3"
  },
  "language_info": {
   "codemirror_mode": {
    "name": "ipython",
    "version": 3
   },
   "file_extension": ".py",
   "mimetype": "text/x-python",
   "name": "python",
   "nbconvert_exporter": "python",
   "pygments_lexer": "ipython3",
   "version": "3.11.5"
  }
 },
 "nbformat": 4,
 "nbformat_minor": 5
}
