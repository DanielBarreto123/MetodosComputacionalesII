{
 "cells": [
  {
   "cell_type": "code",
   "execution_count": 1,
   "id": "307e73d3",
   "metadata": {},
   "outputs": [],
   "source": [
    "import numpy as np\n",
    "import matplotlib.pyplot as plt\n",
    "from scipy import integrate"
   ]
  },
  {
   "cell_type": "code",
   "execution_count": 2,
   "id": "4d918389",
   "metadata": {},
   "outputs": [],
   "source": [
    "#Physics parameters\n",
    "g = 9.81\n",
    "b = 0.1    # Gamma/m  Gamma is the viscosity and m the mass "
   ]
  },
  {
   "cell_type": "code",
   "execution_count": 4,
   "id": "03337016",
   "metadata": {},
   "outputs": [],
   "source": [
    "h = 0.01\n",
    "t = np.arange(0,6+h,h)\n",
    "#t"
   ]
  },
  {
   "cell_type": "code",
   "execution_count": 7,
   "id": "692055cc",
   "metadata": {},
   "outputs": [],
   "source": [
    "def System(r,t,b):\n",
    "    \n",
    "    x,y,vx,vy = r\n",
    "    \n",
    "    dxdt = vx\n",
    "    dydt = vy\n",
    "    dvxdt = 0. - b*vx\n",
    "    dvydt = - g - b*vy\n",
    "    \n",
    "    return [dxdt,dydt,dvxdt,dvydt]"
   ]
  },
  {
   "cell_type": "code",
   "execution_count": 8,
   "id": "c865a81d",
   "metadata": {},
   "outputs": [],
   "source": [
    "def Integrator2(f,r0,t,b):\n",
    "    \n",
    "    h = t[1] - t[0]\n",
    "    print(h)\n",
    "    \n",
    "    x = np.zeros_like(t)\n",
    "    y = np.zeros_like(t)\n",
    "    vx = np.zeros_like(t)\n",
    "    vy = np.zeros_like(t)\n",
    "    \n",
    "    x[0] = r0[0]\n",
    "    y[0] = r0[1]\n",
    "    vx[0] = r0[2]\n",
    "    vy[0] = r0[3]\n",
    "    \n",
    "    K1 = np.zeros(4)\n",
    "    K2 = np.zeros(4)\n",
    "    \n",
    "    # Las pendientes instantaneas\n",
    "    R = np.zeros(4)\n",
    "\n",
    "    for i in range(1,len(t)):\n",
    "        \n",
    "        R = np.array([x[i-1],y[i-1],vx[i-1],vy[i-1]])\n",
    "        \n",
    "        K1 = f(R,t[i-1],b)\n",
    "        \n",
    "        R = np.array([x[i-1]+h*K1[0],y[i-1]+h*K1[1],vx[i-1]+h*K1[2],vy[i-1]+h*K1[3]])\n",
    "        \n",
    "        K2 = f(R,t[i-1],b)\n",
    "        \n",
    "        x[i] = x[i-1] + 0.5*h*(K1[0]+K2[0])\n",
    "        y[i] = y[i-1] + 0.5*h*(K1[1]+K2[1])\n",
    "        \n",
    "        vx[i] = vx[i-1] + 0.5*h*(K1[2]+K2[2])\n",
    "        vy[i] = vy[i-1] + 0.5*h*(K1[3]+K2[3])\n",
    "        \n",
    "    return x,y,vx,vy"
   ]
  },
  {
   "cell_type": "code",
   "execution_count": 9,
   "id": "c0d2d565",
   "metadata": {},
   "outputs": [],
   "source": [
    "theta = 30*np.pi/180\n",
    "r0 = [0.,10,20*np.cos(theta),20*np.sin(theta)]"
   ]
  },
  {
   "cell_type": "code",
   "execution_count": 10,
   "id": "9cfcb19c",
   "metadata": {},
   "outputs": [
    {
     "name": "stdout",
     "output_type": "stream",
     "text": [
      "0.01\n"
     ]
    }
   ],
   "source": [
    "x,y,vx,vy = Integrator2(System,r0,t,0.5)"
   ]
  },
  {
   "cell_type": "code",
   "execution_count": 11,
   "id": "2b1bc62b",
   "metadata": {},
   "outputs": [
    {
     "data": {
      "text/plain": [
       "[<matplotlib.lines.Line2D at 0x7efda8ac6e90>]"
      ]
     },
     "execution_count": 11,
     "metadata": {},
     "output_type": "execute_result"
    },
    {
     "data": {
      "image/png": "[encoded data removed]",
      "text/plain": [
       "<Figure size 640x480 with 1 Axes>"
      ]
     },
     "metadata": {},
     "output_type": "display_data"
    }
   ],
   "source": [
    "plt.plot(x,y)"
   ]
  },
  {
   "cell_type": "code",
   "execution_count": null,
   "id": "c58ac17d",
   "metadata": {},
   "outputs": [],
   "source": []
  }
 ],
 "metadata": {
  "kernelspec": {
   "display_name": "Python 3 (ipykernel)",
   "language": "python",
   "name": "python3"
  },
  "language_info": {
   "codemirror_mode": {
    "name": "ipython",
    "version": 3
   },
   "file_extension": ".py",
   "mimetype": "text/x-python",
   "name": "python",
   "nbconvert_exporter": "python",
   "pygments_lexer": "ipython3",
   "version": "3.11.5"
  }
 },
 "nbformat": 4,
 "nbformat_minor": 5
}
