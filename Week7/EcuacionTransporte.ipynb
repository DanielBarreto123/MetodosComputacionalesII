{
 "cells": [
  {
   "cell_type": "code",
   "execution_count": 1,
   "id": "55596a3e",
   "metadata": {},
   "outputs": [],
   "source": [
    "%matplotlib notebook\n",
    "import numpy as np\n",
    "import matplotlib.pyplot as plt\n",
    "from matplotlib import rc\n",
    "import matplotlib.animation as animation\n",
    "from tqdm import tqdm"
   ]
  },
  {
   "cell_type": "code",
   "execution_count": null,
   "id": "f51e26a8",
   "metadata": {},
   "outputs": [],
   "source": []
  },
  {
   "cell_type": "code",
   "execution_count": null,
   "id": "27e0b97c",
   "metadata": {},
   "outputs": [],
   "source": []
  },
  {
   "cell_type": "code",
   "execution_count": null,
   "id": "1acdcdce",
   "metadata": {},
   "outputs": [],
   "source": []
  },
  {
   "cell_type": "code",
   "execution_count": null,
   "id": "93820ce2",
   "metadata": {},
   "outputs": [],
   "source": []
  },
  {
   "cell_type": "code",
   "execution_count": null,
   "id": "22740703",
   "metadata": {},
   "outputs": [],
   "source": [
    "fig = plt.figure(figsize=(6,6))\n",
    "ax = fig.add_subplot(1,1,1)\n",
    "\n",
    "def init():\n",
    "    \n",
    "    ax.set_xlim(x[0],x[-1])\n",
    "    ax.set_ylim(-1.5,1.5)\n",
    "    ax.set_xlabel(r'$x[m]$', fontsize=15)\n",
    "    ax.set_ylabel(r'$u(x)$', fontsize=15)    \n",
    "    \n",
    "def Update(i):\n",
    "    plot = ax.clear()\n",
    "    init()\n",
    "    plot = ax.plot(x,u[i,:], '--' ,color='b', label=r'$u(x,%.2f)$' %(t[i]))\n",
    "    plot = ax.scatter(x,u[i,:], marker='o', color='r')\n",
    "    plot = plt.legend(loc=0)\n",
    "    return plot\n",
    "\n",
    "Animation = animation.FuncAnimation(fig, Update, frames=len(t), init_func=init)"
   ]
  }
 ],
 "metadata": {
  "kernelspec": {
   "display_name": "Python 3 (ipykernel)",
   "language": "python",
   "name": "python3"
  },
  "language_info": {
   "codemirror_mode": {
    "name": "ipython",
    "version": 3
   },
   "file_extension": ".py",
   "mimetype": "text/x-python",
   "name": "python",
   "nbconvert_exporter": "python",
   "pygments_lexer": "ipython3",
   "version": "3.11.5"
  }
 },
 "nbformat": 4,
 "nbformat_minor": 5
}
