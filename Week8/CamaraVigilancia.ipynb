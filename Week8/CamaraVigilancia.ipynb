{
 "cells": [
  {
   "cell_type": "code",
   "execution_count": 3,
   "id": "e9402601",
   "metadata": {},
   "outputs": [],
   "source": [
    "import cv2"
   ]
  },
  {
   "cell_type": "code",
   "execution_count": null,
   "id": "39ffab61",
   "metadata": {},
   "outputs": [],
   "source": []
  },
  {
   "cell_type": "code",
   "execution_count": 12,
   "id": "949237ce",
   "metadata": {},
   "outputs": [],
   "source": [
    "url = \"http://157.253.131.126:8080/video\""
   ]
  },
  {
   "cell_type": "code",
   "execution_count": 13,
   "id": "f6968d82",
   "metadata": {},
   "outputs": [],
   "source": [
    "cap = cv2.VideoCapture(url)"
   ]
  },
  {
   "cell_type": "code",
   "execution_count": 14,
   "id": "d9dec71a",
   "metadata": {},
   "outputs": [],
   "source": [
    "cap = cv2.VideoCapture(url)\n",
    "\n",
    "while(cap.isOpened()):\n",
    "    \n",
    "    camera, frame = cap.read()\n",
    "    \n",
    "    try:\n",
    "        cv2.imshow('Imagen',cv2.resize(frame,(800,600)))\n",
    "        \n",
    "        key = cv2.waitKey(1)\n",
    "        if key == ord('e'):\n",
    "            break\n",
    "            \n",
    "    except cv2.error:\n",
    "        print('end')\n",
    "        break\n",
    "        \n",
    "        \n",
    "cv2.destroyAllWindows()"
   ]
  },
  {
   "cell_type": "code",
   "execution_count": null,
   "id": "358388b7",
   "metadata": {},
   "outputs": [],
   "source": []
  }
 ],
 "metadata": {
  "kernelspec": {
   "display_name": "Python 3 (ipykernel)",
   "language": "python",
   "name": "python3"
  },
  "language_info": {
   "codemirror_mode": {
    "name": "ipython",
    "version": 3
   },
   "file_extension": ".py",
   "mimetype": "text/x-python",
   "name": "python",
   "nbconvert_exporter": "python",
   "pygments_lexer": "ipython3",
   "version": "3.10.12"
  }
 },
 "nbformat": 4,
 "nbformat_minor": 5
}
