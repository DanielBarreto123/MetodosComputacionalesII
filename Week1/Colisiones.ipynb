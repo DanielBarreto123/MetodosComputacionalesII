{
 "cells": [
  {
   "cell_type": "code",
   "execution_count": 1,
   "id": "693efd9e",
   "metadata": {},
   "outputs": [],
   "source": [
    "%matplotlib notebook\n",
    "import numpy as np\n",
    "import matplotlib.pyplot as plt\n",
    "import matplotlib.animation as anim\n",
    "from tqdm import tqdm"
   ]
  },
  {
   "cell_type": "code",
   "execution_count": 22,
   "id": "4db3fba5",
   "metadata": {},
   "outputs": [],
   "source": [
    "class Particle:\n",
    "    \n",
    "    def __init__(self, r0, v0, a0, t, m=1, radius=2., Id=0):\n",
    "        \n",
    "        self.dt = t[1] - t[0]\n",
    "        \n",
    "        \n",
    "        # Atributos instantaneos\n",
    "        self.r = r0\n",
    "        self.v = v0\n",
    "        self.a = a0\n",
    "        \n",
    "        self.m = m\n",
    "        self.radius = radius\n",
    "        self.Id = Id\n",
    "        \n",
    "        self.p = self.m*self.v\n",
    "        \n",
    "        # Historial\n",
    "        \n",
    "        self.R = np.zeros((len(t),len(r0)))\n",
    "        self.V = np.zeros_like(self.R)\n",
    "        self.A = np.zeros_like(self.R)\n",
    "        \n",
    "        self.F = np.zeros_like(self.R)\n",
    "        \n",
    "        self.P = np.zeros_like(self.R)\n",
    "    \n",
    "        # Fisica\n",
    "        self.K = 10.\n",
    "        \n",
    "    def Evolution(self,i):\n",
    "        \n",
    "        \n",
    "        self.SetPosition(i)\n",
    "        \n",
    "        self.r += self.dt*self.v\n",
    "        self.v += self.dt*self.a\n",
    "        \n",
    "    # Setter\n",
    "    def SetPosition(self,i):\n",
    "        self.R[i] = self.r\n",
    "    \n",
    "    # Getter\n",
    "    def GetPosition(self,scale=1):\n",
    "        return self.R[::scale]"
   ]
  },
  {
   "cell_type": "code",
   "execution_count": 23,
   "id": "a7f98473",
   "metadata": {},
   "outputs": [],
   "source": [
    "def GetParticles(N,t):\n",
    "    \n",
    "    r0 = np.array([-5,0.5])\n",
    "    v0 = np.array([10.,0])\n",
    "    a0 = np.array([0.,0.])\n",
    "    \n",
    "    p0 = Particle(r0,v0,a0,t,m=1,radius=2,Id=0)\n",
    "    \n",
    "    Particles = [p0]\n",
    "    \n",
    "    return Particles"
   ]
  },
  {
   "cell_type": "code",
   "execution_count": 24,
   "id": "6a9c3a1e",
   "metadata": {},
   "outputs": [],
   "source": [
    "dt = 0.01\n",
    "tmax = 10\n",
    "t = np.arange(0,tmax,dt)\n",
    "Particles = GetParticles(1,t)"
   ]
  },
  {
   "cell_type": "code",
   "execution_count": 25,
   "id": "ece97c30",
   "metadata": {},
   "outputs": [],
   "source": [
    "def RunSimulation(t,Particles):\n",
    "    \n",
    "    for it in range(len(t)):\n",
    "        \n",
    "        \n",
    "        for i in range(len(Particles)):\n",
    "            Particles[i].Evolution(it)\n",
    "            \n",
    "    return Particles"
   ]
  },
  {
   "cell_type": "code",
   "execution_count": 26,
   "id": "0139ffaa",
   "metadata": {},
   "outputs": [],
   "source": [
    "Particles = RunSimulation(t,Particles)"
   ]
  },
  {
   "cell_type": "code",
   "execution_count": 27,
   "id": "e989e5eb",
   "metadata": {},
   "outputs": [
    {
     "data": {
      "text/plain": [
       "array([[-5. ,  0.5],\n",
       "       [-4.9,  0.5],\n",
       "       [-4.8,  0.5],\n",
       "       ...,\n",
       "       [94.7,  0.5],\n",
       "       [94.8,  0.5],\n",
       "       [94.9,  0.5]])"
      ]
     },
     "execution_count": 27,
     "metadata": {},
     "output_type": "execute_result"
    }
   ],
   "source": [
    "Particles[0].GetPosition()"
   ]
  },
  {
   "cell_type": "code",
   "execution_count": null,
   "id": "5b20ab11",
   "metadata": {},
   "outputs": [],
   "source": []
  }
 ],
 "metadata": {
  "kernelspec": {
   "display_name": "Python 3 (ipykernel)",
   "language": "python",
   "name": "python3"
  },
  "language_info": {
   "codemirror_mode": {
    "name": "ipython",
    "version": 3
   },
   "file_extension": ".py",
   "mimetype": "text/x-python",
   "name": "python",
   "nbconvert_exporter": "python",
   "pygments_lexer": "ipython3",
   "version": "3.11.5"
  }
 },
 "nbformat": 4,
 "nbformat_minor": 5
}
