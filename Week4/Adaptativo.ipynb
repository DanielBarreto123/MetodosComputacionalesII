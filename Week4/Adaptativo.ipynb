{
 "cells": [
  {
   "cell_type": "code",
   "execution_count": 1,
   "id": "c1fb6948",
   "metadata": {},
   "outputs": [],
   "source": [
    "import numpy as np\n",
    "import matplotlib.pyplot as plt\n",
    "from scipy.integrate import odeint"
   ]
  },
  {
   "cell_type": "code",
   "execution_count": 2,
   "id": "3d6539e8",
   "metadata": {},
   "outputs": [],
   "source": [
    "def f(x,t):\n",
    "    return np.exp(x) - x*np.exp(t)"
   ]
  },
  {
   "cell_type": "code",
   "execution_count": 3,
   "id": "4b5a87de",
   "metadata": {},
   "outputs": [],
   "source": [
    "t = np.linspace(0.,3.,50)\n",
    "x0 = 0.02"
   ]
  },
  {
   "cell_type": "code",
   "execution_count": 4,
   "id": "3631f368",
   "metadata": {},
   "outputs": [],
   "source": [
    "sol = odeint(f,x0,t)"
   ]
  },
  {
   "cell_type": "code",
   "execution_count": 7,
   "id": "cabc9973",
   "metadata": {},
   "outputs": [
    {
     "data": {
      "text/plain": [
       "<matplotlib.collections.PathCollection at 0x7faf09a5a790>"
      ]
     },
     "execution_count": 7,
     "metadata": {},
     "output_type": "execute_result"
    },
    {
     "data": {
      "image/png": "[encoded data removed]",
      "text/plain": [
       "<Figure size 640x480 with 1 Axes>"
      ]
     },
     "metadata": {},
     "output_type": "display_data"
    }
   ],
   "source": [
    "plt.scatter(t,sol[:,0],marker='.')"
   ]
  },
  {
   "cell_type": "code",
   "execution_count": 8,
   "id": "e77c44a0",
   "metadata": {},
   "outputs": [],
   "source": [
    "def Increment(f,x,t,h):\n",
    "    \n",
    "    k1 = f(x,t)\n",
    "    k2 = f(x+0.5*h*k1,t+0.5*h)\n",
    "    k3 = f(x+0.5*h*k2,t+0.5*h)\n",
    "    k4 = f(x+h*k3, t+h)\n",
    "    \n",
    "    Deltaf = h*(k1+2*k2+2*k3+k4)/6\n",
    "    \n",
    "    return x+Deltaf"
   ]
  },
  {
   "cell_type": "code",
   "execution_count": 9,
   "id": "c2bd82fc",
   "metadata": {},
   "outputs": [],
   "source": [
    "def CheckStep(Delta1,Delta2,Delta3,h,minimo=1e-3,maximo=1e-2):\n",
    "    \n",
    "    tolerancia = 0.001\n",
    "    \n",
    "    Delta1 = np.abs(Delta1)\n",
    "    Delta2 = np.abs(Delta2)\n",
    "    Delta3 = np.abs(Delta3)\n",
    "    \n",
    "    if Delta1 < tolerancia:\n",
    "        h = minimo\n",
    "        dx = Delta1\n",
    "        \n",
    "    else:\n",
    "        \n",
    "        if np.abs((Delta1 - Delta2))/Delta1 > maximo:\n",
    "            h = 0.5*h\n",
    "            dx = Delta2\n",
    "        \n",
    "        elif np.abs((Delta1-Delta3))/Delta1 < minimo:\n",
    "            h = 2*h\n",
    "            dx = Delta3\n",
    "        \n",
    "        else:\n",
    "            dx = Delta1\n",
    "            \n",
    "    return dx,h"
   ]
  },
  {
   "cell_type": "code",
   "execution_count": 10,
   "id": "fed6103a",
   "metadata": {},
   "outputs": [],
   "source": [
    "def Adaptativo(f,x0,t):\n",
    "    \n",
    "    h = t[1] - t[0]\n",
    "    \n",
    "    tf = t[-1]\n",
    "    t = t[0]\n",
    "    \n",
    "    x = x0\n",
    "    \n",
    "    Time = np.array([t])\n",
    "    Vector = np.array([x])\n",
    "    Steps = np.array([h])\n",
    "    \n",
    "    while t < tf:\n",
    "        \n",
    "        Delta1 = Increment(f,x,t,h)\n",
    "        Delta2 = Increment(f,x,t,0.5*h)\n",
    "        Delta3 = Increment(f,x,t,2*h)\n",
    "    \n",
    "        dx,h = CheckStep(Delta1,Delta2,Delta3,h)\n",
    "        \n",
    "        x = Increment(f,x,t,h)\n",
    "        t += h\n",
    "        \n",
    "        Steps = np.append(Steps,h )\n",
    "        Time = np.append(Time,t)\n",
    "        Vector = np.append(Vector,x)\n",
    "        \n",
    "    return Time,Vector,Steps"
   ]
  },
  {
   "cell_type": "code",
   "execution_count": 12,
   "id": "7b082c25",
   "metadata": {},
   "outputs": [],
   "source": [
    "t1,x1,h1 = Adaptativo(f,x0,t)"
   ]
  },
  {
   "cell_type": "code",
   "execution_count": null,
   "id": "3bef0f69",
   "metadata": {},
   "outputs": [],
   "source": [
    "print(len(t1))"
   ]
  }
 ],
 "metadata": {
  "kernelspec": {
   "display_name": "Python 3 (ipykernel)",
   "language": "python",
   "name": "python3"
  },
  "language_info": {
   "codemirror_mode": {
    "name": "ipython",
    "version": 3
   },
   "file_extension": ".py",
   "mimetype": "text/x-python",
   "name": "python",
   "nbconvert_exporter": "python",
   "pygments_lexer": "ipython3",
   "version": "3.11.5"
  }
 },
 "nbformat": 4,
 "nbformat_minor": 5
}
