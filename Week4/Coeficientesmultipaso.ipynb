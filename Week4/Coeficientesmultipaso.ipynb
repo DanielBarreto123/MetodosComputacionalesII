{
 "cells": [
  {
   "cell_type": "code",
   "execution_count": 1,
   "id": "88f68a04",
   "metadata": {},
   "outputs": [],
   "source": [
    "import numpy as np\n",
    "import sympy as sym"
   ]
  },
  {
   "cell_type": "code",
   "execution_count": 2,
   "id": "5199b9d1",
   "metadata": {},
   "outputs": [],
   "source": [
    "t = sym.Symbol('t',Real=True)\n",
    "h = sym.Symbol('h',Real=True)"
   ]
  },
  {
   "cell_type": "code",
   "execution_count": 5,
   "id": "ea046cab",
   "metadata": {},
   "outputs": [],
   "source": [
    "F1 = ( t - (-h) )/h\n",
    "F2 = -( t - 0 )/h"
   ]
  },
  {
   "cell_type": "code",
   "execution_count": 4,
   "id": "373327d1",
   "metadata": {},
   "outputs": [
    {
     "data": {
      "text/latex": [
       "$\\displaystyle \\frac{3 h}{2}$"
      ],
      "text/plain": [
       "3*h/2"
      ]
     },
     "execution_count": 4,
     "metadata": {},
     "output_type": "execute_result"
    }
   ],
   "source": [
    "I1 = sym.integrate(F1,(t,0,h))\n",
    "I1"
   ]
  },
  {
   "cell_type": "code",
   "execution_count": 6,
   "id": "f27c63e3",
   "metadata": {},
   "outputs": [
    {
     "data": {
      "text/latex": [
       "$\\displaystyle - \\frac{h}{2}$"
      ],
      "text/plain": [
       "-h/2"
      ]
     },
     "execution_count": 6,
     "metadata": {},
     "output_type": "execute_result"
    }
   ],
   "source": [
    "I2 = sym.integrate(F2,(t,0,h))\n",
    "I2"
   ]
  },
  {
   "cell_type": "code",
   "execution_count": null,
   "id": "a0105a10",
   "metadata": {},
   "outputs": [],
   "source": []
  }
 ],
 "metadata": {
  "kernelspec": {
   "display_name": "Python 3 (ipykernel)",
   "language": "python",
   "name": "python3"
  },
  "language_info": {
   "codemirror_mode": {
    "name": "ipython",
    "version": 3
   },
   "file_extension": ".py",
   "mimetype": "text/x-python",
   "name": "python",
   "nbconvert_exporter": "python",
   "pygments_lexer": "ipython3",
   "version": "3.11.5"
  }
 },
 "nbformat": 4,
 "nbformat_minor": 5
}
