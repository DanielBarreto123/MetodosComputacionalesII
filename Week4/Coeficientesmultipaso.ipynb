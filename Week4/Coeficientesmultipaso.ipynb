{
 "cells": [
  {
   "cell_type": "code",
   "execution_count": 1,
   "id": "a1b4bd16",
   "metadata": {},
   "outputs": [],
   "source": [
    "import numpy as np\n",
    "import sympy as sym"
   ]
  },
  {
   "cell_type": "code",
   "execution_count": 2,
   "id": "0e3fb130",
   "metadata": {},
   "outputs": [],
   "source": [
    "t = sym.Symbol('t',Real=True)\n",
    "h = sym.Symbol('h',Real=True)"
   ]
  },
  {
   "cell_type": "code",
   "execution_count": 5,
   "id": "2235db9f",
   "metadata": {},
   "outputs": [],
   "source": [
    "F1 = ( t - (-h) )/h\n",
    "F2 = -( t - 0 )/h"
   ]
  },
  {
   "cell_type": "code",
   "execution_count": 4,
   "id": "8d9821f7",
   "metadata": {},
   "outputs": [
    {
     "data": {
      "text/latex": [
       "$\\displaystyle \\frac{3 h}{2}$"
      ],
      "text/plain": [
       "3*h/2"
      ]
     },
     "execution_count": 4,
     "metadata": {},
     "output_type": "execute_result"
    }
   ],
   "source": [
    "I1 = sym.integrate(F1,(t,0,h))\n",
    "I1"
   ]
  },
  {
   "cell_type": "code",
   "execution_count": 6,
   "id": "872726e8",
   "metadata": {},
   "outputs": [
    {
     "data": {
      "text/latex": [
       "$\\displaystyle - \\frac{h}{2}$"
      ],
      "text/plain": [
       "-h/2"
      ]
     },
     "execution_count": 6,
     "metadata": {},
     "output_type": "execute_result"
    }
   ],
   "source": [
    "I2 = sym.integrate(F2,(t,0,h))\n",
    "I2"
   ]
  },
  {
   "cell_type": "code",
   "execution_count": 7,
   "id": "c143d914",
   "metadata": {},
   "outputs": [],
   "source": [
    "F3 = -( t - h )/h"
   ]
  },
  {
   "cell_type": "code",
   "execution_count": 8,
   "id": "6ad3d84c",
   "metadata": {},
   "outputs": [
    {
     "data": {
      "text/latex": [
       "$\\displaystyle \\frac{h}{2}$"
      ],
      "text/plain": [
       "h/2"
      ]
     },
     "execution_count": 8,
     "metadata": {},
     "output_type": "execute_result"
    }
   ],
   "source": [
    "I3 = sym.integrate(F3,(t,0,h))\n",
    "I3"
   ]
  },
  {
   "cell_type": "code",
   "execution_count": 9,
   "id": "bf5e0989",
   "metadata": {},
   "outputs": [],
   "source": [
    "F4 = t*( t + h )/(2*h**2)"
   ]
  },
  {
   "cell_type": "code",
   "execution_count": 10,
   "id": "6aee65fd",
   "metadata": {},
   "outputs": [
    {
     "data": {
      "text/latex": [
       "$\\displaystyle \\frac{5 h}{12}$"
      ],
      "text/plain": [
       "5*h/12"
      ]
     },
     "execution_count": 10,
     "metadata": {},
     "output_type": "execute_result"
    }
   ],
   "source": [
    "I4 = sym.integrate(F4,(t,0,h))\n",
    "I4"
   ]
  },
  {
   "cell_type": "code",
   "execution_count": 11,
   "id": "48951181",
   "metadata": {},
   "outputs": [],
   "source": [
    "F5 = t*(t-h)/(2*h**2)"
   ]
  },
  {
   "cell_type": "code",
   "execution_count": 12,
   "id": "357f9e75",
   "metadata": {},
   "outputs": [
    {
     "data": {
      "text/latex": [
       "$\\displaystyle - \\frac{h}{12}$"
      ],
      "text/plain": [
       "-h/12"
      ]
     },
     "execution_count": 12,
     "metadata": {},
     "output_type": "execute_result"
    }
   ],
   "source": [
    "I5 = sym.integrate(F5,(t,0,h))\n",
    "I5"
   ]
  },
  {
   "cell_type": "code",
   "execution_count": null,
   "id": "8680cfcf",
   "metadata": {},
   "outputs": [],
   "source": []
  }
 ],
 "metadata": {
  "kernelspec": {
   "display_name": "Python 3 (ipykernel)",
   "language": "python",
   "name": "python3"
  },
  "language_info": {
   "codemirror_mode": {
    "name": "ipython",
    "version": 3
   },
   "file_extension": ".py",
   "mimetype": "text/x-python",
   "name": "python",
   "nbconvert_exporter": "python",
   "pygments_lexer": "ipython3",
   "version": "3.11.5"
  }
 },
 "nbformat": 4,
 "nbformat_minor": 5
}
