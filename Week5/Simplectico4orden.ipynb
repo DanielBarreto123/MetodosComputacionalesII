{
 "cells": [
  {
   "cell_type": "code",
   "execution_count": 1,
   "id": "e0c54ca5",
   "metadata": {},
   "outputs": [],
   "source": [
    "%matplotlib notebook \n",
    "import numpy as np\n",
    "import matplotlib.pyplot as plt\n",
    "from mpl_toolkits.mplot3d.axes3d import Axes3D\n",
    "import matplotlib.animation as animation\n",
    "from tqdm import tqdm"
   ]
  },
  {
   "cell_type": "markdown",
   "id": "165bee2f",
   "metadata": {},
   "source": [
    "# Método de Yoshida"
   ]
  },
  {
   "cell_type": "code",
   "execution_count": 3,
   "id": "4b8119de",
   "metadata": {},
   "outputs": [
    {
     "name": "stdout",
     "output_type": "stream",
     "text": [
      "0.6756035959798289 -0.17560359597982877 -0.17560359597982877 0.6756035959798289\n",
      "1.3512071919596578 -1.7024143839193153 1.3512071919596578\n",
      "1.0000000000000002\n",
      "1.0000000000000002\n"
     ]
    }
   ],
   "source": [
    "w0 = - ( 2.**(1./3.))/(2. - 2.**(1./3.))\n",
    "w1 =  ( 1. )/( 2. - 2.**(1./3.))\n",
    "c1 = w1/2.\n",
    "c2 = (w0 + w1)/2.\n",
    "c3 = c2\n",
    "c4 = c1\n",
    "d1 = w1\n",
    "d2 = w0\n",
    "d3 = d1\n",
    "print(c1,c2,c3,c4) \n",
    "print(d1,d2,d3)\n",
    "print(c1+c2+c3+c4) \n",
    "print(d1+d2+d3)"
   ]
  },
  {
   "cell_type": "code",
   "execution_count": null,
   "id": "863e7edf",
   "metadata": {},
   "outputs": [],
   "source": []
  }
 ],
 "metadata": {
  "kernelspec": {
   "display_name": "Python 3 (ipykernel)",
   "language": "python",
   "name": "python3"
  },
  "language_info": {
   "codemirror_mode": {
    "name": "ipython",
    "version": 3
   },
   "file_extension": ".py",
   "mimetype": "text/x-python",
   "name": "python",
   "nbconvert_exporter": "python",
   "pygments_lexer": "ipython3",
   "version": "3.11.5"
  }
 },
 "nbformat": 4,
 "nbformat_minor": 5
}
